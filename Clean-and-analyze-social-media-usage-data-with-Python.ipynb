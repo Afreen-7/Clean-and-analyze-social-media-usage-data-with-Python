{
 "cells": [
  {
   "cell_type": "markdown",
   "metadata": {},
   "source": [
    "For this project scenario, I'll work through a series of tasks to simulate the role of a social media analyst. Here's how I can approach it step by step:"
   ]
  },
  {
   "cell_type": "markdown",
   "metadata": {},
   "source": [
    "# Import libraries"
   ]
  },
  {
   "cell_type": "code",
   "execution_count": 67,
   "metadata": {},
   "outputs": [],
   "source": [
    "import pandas as pd           # for DataFrame \n",
    "import numpy as np            # To generate Random numbers  \n",
    "import matplotlib.pyplot as plt  # To display Graphs\n",
    "import seaborn as sns         # For Data plot \n",
    "import random                 #For selecting random item from list"
   ]
  },
  {
   "cell_type": "markdown",
   "metadata": {},
   "source": [
    "# Create random data "
   ]
  },
  {
   "cell_type": "code",
   "execution_count": 68,
   "metadata": {},
   "outputs": [],
   "source": [
    "#  list of categories\n",
    "categories = ['Food', 'Travel', 'Fashion', 'Fitness', 'Music', 'Culture', 'Family', 'Health']"
   ]
  },
  {
   "cell_type": "code",
   "execution_count": 69,
   "metadata": {},
   "outputs": [],
   "source": [
    "# define n (number of data entries)\n",
    "n = 500"
   ]
  },
  {
   "cell_type": "code",
   "execution_count": 70,
   "metadata": {},
   "outputs": [],
   "source": [
    "#  gather a random category\n",
    "data = {\n",
    "    'Date': pd.date_range('2021-01-01', periods=n),  # n random dates\n",
    "    'Category': [random.choice(categories) for _ in range(n)],  # n random categories\n",
    "    'Likes': np.random.randint(0, 10000, size=n)  # n random likes between 0 and 9999\n",
    "}"
   ]
  },
  {
   "cell_type": "markdown",
   "metadata": {},
   "source": [
    "# load / explore data"
   ]
  },
  {
   "cell_type": "code",
   "execution_count": 71,
   "metadata": {},
   "outputs": [
    {
     "name": "stdout",
     "output_type": "stream",
     "text": [
      "          Date Category  Likes\n",
      "0   2021-01-01   Family   7339\n",
      "1   2021-01-02  Fashion   2124\n",
      "2   2021-01-03  Culture   3962\n",
      "3   2021-01-04   Family   5111\n",
      "4   2021-01-05  Fashion   8631\n",
      "..         ...      ...    ...\n",
      "495 2022-05-11   Health    395\n",
      "496 2022-05-12  Fitness   7843\n",
      "497 2022-05-13    Music   7088\n",
      "498 2022-05-14     Food   4957\n",
      "499 2022-05-15   Travel   7048\n",
      "\n",
      "[500 rows x 3 columns]\n"
     ]
    }
   ],
   "source": [
    "df = pd.DataFrame(data)\n",
    "print(df)"
   ]
  },
  {
   "cell_type": "code",
   "execution_count": 72,
   "metadata": {},
   "outputs": [
    {
     "name": "stdout",
     "output_type": "stream",
     "text": [
      "DataFrame Head:\n",
      "        Date Category  Likes\n",
      "0 2021-01-01   Family   7339\n",
      "1 2021-01-02  Fashion   2124\n",
      "2 2021-01-03  Culture   3962\n",
      "3 2021-01-04   Family   5111\n",
      "4 2021-01-05  Fashion   8631\n"
     ]
    }
   ],
   "source": [
    "# to print the first 5 rows of DataFrame\n",
    "print(\"DataFrame Head:\")\n",
    "print(df.head())"
   ]
  },
  {
   "cell_type": "code",
   "execution_count": 73,
   "metadata": {},
   "outputs": [
    {
     "name": "stdout",
     "output_type": "stream",
     "text": [
      "<class 'pandas.core.frame.DataFrame'>\n",
      "RangeIndex: 500 entries, 0 to 499\n",
      "Data columns (total 3 columns):\n",
      " #   Column    Non-Null Count  Dtype         \n",
      "---  ------    --------------  -----         \n",
      " 0   Date      500 non-null    datetime64[ns]\n",
      " 1   Category  500 non-null    object        \n",
      " 2   Likes     500 non-null    int32         \n",
      "dtypes: datetime64[ns](1), int32(1), object(1)\n",
      "memory usage: 9.9+ KB\n",
      "None\n"
     ]
    }
   ],
   "source": [
    "# Print the basic information of DataFrame\n",
    "print(df.info())"
   ]
  },
  {
   "cell_type": "code",
   "execution_count": 74,
   "metadata": {},
   "outputs": [
    {
     "name": "stdout",
     "output_type": "stream",
     "text": [
      "                      Date        Likes\n",
      "count                  500   500.000000\n",
      "mean   2021-09-07 12:00:00  4721.902000\n",
      "min    2021-01-01 00:00:00     0.000000\n",
      "25%    2021-05-05 18:00:00  2251.750000\n",
      "50%    2021-09-07 12:00:00  4715.000000\n",
      "75%    2022-01-10 06:00:00  6976.500000\n",
      "max    2022-05-15 00:00:00  9985.000000\n",
      "std                    NaN  2798.197583\n"
     ]
    }
   ],
   "source": [
    "# Print the description of DataFrame\n",
    "print(df.describe())"
   ]
  },
  {
   "cell_type": "code",
   "execution_count": 75,
   "metadata": {},
   "outputs": [
    {
     "name": "stdout",
     "output_type": "stream",
     "text": [
      "Category\n",
      "Travel     71\n",
      "Fashion    68\n",
      "Health     67\n",
      "Culture    62\n",
      "Family     59\n",
      "Fitness    59\n",
      "Music      57\n",
      "Food       57\n",
      "Name: count, dtype: int64\n"
     ]
    }
   ],
   "source": [
    "# Print the count of each category \n",
    "print(df['Category'].value_counts())"
   ]
  },
  {
   "cell_type": "markdown",
   "metadata": {},
   "source": [
    "# Data cleaning"
   ]
  },
  {
   "cell_type": "code",
   "execution_count": 76,
   "metadata": {},
   "outputs": [],
   "source": [
    "# removing Null values \n",
    "df.dropna(inplace=True)"
   ]
  },
  {
   "cell_type": "code",
   "execution_count": 77,
   "metadata": {},
   "outputs": [],
   "source": [
    "# removing Duplicate values\n",
    "df.drop_duplicates(inplace=True)"
   ]
  },
  {
   "cell_type": "code",
   "execution_count": 78,
   "metadata": {},
   "outputs": [],
   "source": [
    "# convert Date field to datetime format \n",
    "df['Date'] = pd.to_datetime(df['Date'])"
   ]
  },
  {
   "cell_type": "code",
   "execution_count": 79,
   "metadata": {},
   "outputs": [],
   "source": [
    "# convert Likes column to integer type \n",
    "df['Likes'] = df['Likes'].astype(int)\n"
   ]
  },
  {
   "cell_type": "code",
   "execution_count": 80,
   "metadata": {},
   "outputs": [
    {
     "name": "stdout",
     "output_type": "stream",
     "text": [
      "Cleaned DataFrame Head:\n",
      "        Date Category  Likes\n",
      "0 2021-01-01   Family   7339\n",
      "1 2021-01-02  Fashion   2124\n",
      "2 2021-01-03  Culture   3962\n",
      "3 2021-01-04   Family   5111\n",
      "4 2021-01-05  Fashion   8631\n"
     ]
    }
   ],
   "source": [
    "# Print to see the Cleaned DataFrame\n",
    "print(\"Cleaned DataFrame Head:\")\n",
    "print(df.head())"
   ]
  },
  {
   "cell_type": "markdown",
   "metadata": {},
   "source": [
    "  # Visualize and Analyze Data\n"
   ]
  },
  {
   "cell_type": "code",
   "execution_count": 81,
   "metadata": {},
   "outputs": [],
   "source": [
    "# for vaisualizing the data using seaborn module in a histogram plot of \"likes\""
   ]
  },
  {
   "cell_type": "code",
   "execution_count": 82,
   "metadata": {},
   "outputs": [
    {
     "data": {
      "image/png": "[encoded data removed]",
      "text/plain": [
       "<Figure size 640x480 with 1 Axes>"
      ]
     },
     "metadata": {},
     "output_type": "display_data"
    }
   ],
   "source": [
    "sns.histplot(df['Likes'])\n",
    "plt.show()"
   ]
  },
  {
   "cell_type": "markdown",
   "metadata": {},
   "source": [
    "# 2. Boxplot"
   ]
  },
  {
   "cell_type": "code",
   "execution_count": 83,
   "metadata": {},
   "outputs": [
    {
     "data": {
      "image/png": "[encoded data removed]",
      "text/plain": [
       "<Figure size 640x480 with 1 Axes>"
      ]
     },
     "metadata": {},
     "output_type": "display_data"
    }
   ],
   "source": [
    "sns.boxplot(x='Category', y='Likes', data=df)\n",
    "plt.show()"
   ]
  },
  {
   "cell_type": "markdown",
   "metadata": {},
   "source": [
    "# 3. Statistics\n",
    "# Mean of Likes"
   ]
  },
  {
   "cell_type": "code",
   "execution_count": 84,
   "metadata": {},
   "outputs": [
    {
     "name": "stdout",
     "output_type": "stream",
     "text": [
      "Overall mean of Likes: 4721.902\n",
      "Category\n",
      "Culture    5814.903226\n",
      "Family     4773.288136\n",
      "Fashion    3597.352941\n",
      "Fitness    4392.864407\n",
      "Food       4340.473684\n",
      "Health     5098.208955\n",
      "Music      4916.333333\n",
      "Travel     4870.225352\n",
      "Name: Likes, dtype: float64\n"
     ]
    }
   ],
   "source": [
    "print(\"Overall mean of Likes:\", df['Likes'].mean())\n",
    "print(df.groupby('Category')['Likes'].mean())"
   ]
  },
  {
   "cell_type": "markdown",
   "metadata": {},
   "source": [
    "# Mean of Likes by Category"
   ]
  },
  {
   "cell_type": "code",
   "execution_count": null,
   "metadata": {},
   "outputs": [
    {
     "name": "stdout",
     "output_type": "stream",
     "text": [
      "\n",
      "Mean of Likes by Category:\n",
      "Category\n",
      "Culture    4546.684211\n",
      "Family     4628.027027\n",
      "Fashion    5411.688525\n",
      "Fitness    5116.742857\n",
      "Food       5145.707692\n",
      "Health     5611.966102\n",
      "Music      5518.934426\n",
      "Travel     5075.905660\n",
      "Name: Likes, dtype: float64\n"
     ]
    }
   ],
   "source": [
    "mean_likes_by_category = df.groupby('Category')['Likes'].mean()\n",
    "print(\"\\nMean of Likes by Category:\")\n",
    "print(mean_likes_by_category)"
   ]
  },
  {
   "cell_type": "markdown",
   "metadata": {},
   "source": [
    "### Conclusion of the project and key findings"
   ]
  },
  {
   "cell_type": "markdown",
   "metadata": {},
   "source": [
    "#### Overview of the event"
   ]
  },
  {
   "cell_type": "markdown",
   "metadata": {},
   "source": [
    "In this project, I tackled the challenge of analyzing social media post data to provide insights that could be used to improve client social media strategies. The process required several key steps:"
   ]
  },
  {
   "cell_type": "markdown",
   "metadata": {},
   "source": [
    "1. **Data Generation**: Created a synthetic data set for social media posts, including date, category, likes and other fields. The data were randomly generated to simulate real-world situations"
   ]
  },
  {
   "cell_type": "markdown",
   "metadata": {},
   "source": [
    "2. **Data Cleanup**: The data set was cleaned by removing null values ​​and duplicates. The data fields were converted to the appropriate formats (datetime for Date and integer for Likes) to ensure accurate analysis.\n"
   ]
  },
  {
   "cell_type": "markdown",
   "metadata": {},
   "source": [
    "**Data Visualization**:"
   ]
  },
  {
   "cell_type": "markdown",
   "metadata": {},
   "source": [
    "   - **Histogram**: We use a histogram to visualize the distribution of Likes. This was helpful in identifying seemingly different frequencies and in understanding the overall distribution.\n",
    "   - **Boxplot**: Created a boxplot to show the spread and distribution of Likes in different categories. This gave us insight into which groups received more or less popularity, as well as the variation within each group."
   ]
  },
  {
   "cell_type": "markdown",
   "metadata": {},
   "source": [
    " **Statistical Analysis**: .\n",
    "   - Calculated the average number of Likes for all posts to understand the average engagement.\n",
    "   - Used groupby to calculate and compare Likes for each category, to see which categories were most popular."
   ]
  },
  {
   "cell_type": "markdown",
   "metadata": {},
   "source": [
    "#### Key findings\n",
    "- **Distribution of likes**: The histogram showed that most posts received a moderate number of Likes, with a few posts receiving exceptionally high or low engagement. This implies a different pattern of association with some extraneous objects.\n",
    "  \n",
    "- **Category Display**: Boxplot shows changes in Likes in different categories. For example, some categories like Fashion or Food may have a higher number of Likes than others"
   ]
  }
 ],
 "metadata": {
  "kernelspec": {
   "display_name": "Python 3",
   "language": "python",
   "name": "python3"
  },
  "language_info": {
   "codemirror_mode": {
    "name": "ipython",
    "version": 3
   },
   "file_extension": ".py",
   "mimetype": "text/x-python",
   "name": "python",
   "nbconvert_exporter": "python",
   "pygments_lexer": "ipython3",
   "version": "3.12.1"
  }
 },
 "nbformat": 4,
 "nbformat_minor": 2
}
